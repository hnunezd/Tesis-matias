{
 "cells": [
  {
   "cell_type": "code",
   "execution_count": 2,
   "id": "eea9b047",
   "metadata": {
    "_cell_guid": "b1076dfc-b9ad-4769-8c92-a6c4dae69d19",
    "_uuid": "8f2839f25d086af736a60e9eeb907d3b93b6e0e5",
    "execution": {
     "iopub.execute_input": "2024-07-14T08:43:34.842220Z",
     "iopub.status.busy": "2024-07-14T08:43:34.841245Z",
     "iopub.status.idle": "2024-07-14T08:43:35.681156Z",
     "shell.execute_reply": "2024-07-14T08:43:35.679827Z"
    },
    "papermill": {
     "duration": 0.857141,
     "end_time": "2024-07-14T08:43:35.683600",
     "exception": false,
     "start_time": "2024-07-14T08:43:34.826459",
     "status": "completed"
    },
    "tags": []
   },
   "outputs": [],
   "source": [
    "import numpy as np \n",
    "import pandas as pd "
   ]
  },
  {
   "cell_type": "code",
   "execution_count": 3,
   "id": "031f8062",
   "metadata": {
    "execution": {
     "iopub.execute_input": "2024-07-14T08:43:35.710011Z",
     "iopub.status.busy": "2024-07-14T08:43:35.709547Z",
     "iopub.status.idle": "2024-07-14T08:43:35.905349Z",
     "shell.execute_reply": "2024-07-14T08:43:35.904202Z"
    },
    "papermill": {
     "duration": 0.211818,
     "end_time": "2024-07-14T08:43:35.907783",
     "exception": false,
     "start_time": "2024-07-14T08:43:35.695965",
     "status": "completed"
    },
    "tags": []
   },
   "outputs": [
    {
     "data": {
      "text/html": [
       "<div>\n",
       "<style scoped>\n",
       "    .dataframe tbody tr th:only-of-type {\n",
       "        vertical-align: middle;\n",
       "    }\n",
       "\n",
       "    .dataframe tbody tr th {\n",
       "        vertical-align: top;\n",
       "    }\n",
       "\n",
       "    .dataframe thead th {\n",
       "        text-align: right;\n",
       "    }\n",
       "</style>\n",
       "<table border=\"1\" class=\"dataframe\">\n",
       "  <thead>\n",
       "    <tr style=\"text-align: right;\">\n",
       "      <th></th>\n",
       "      <th>Month</th>\n",
       "      <th>WeekOfMonth</th>\n",
       "      <th>DayOfWeek</th>\n",
       "      <th>Make</th>\n",
       "      <th>AccidentArea</th>\n",
       "      <th>DayOfWeekClaimed</th>\n",
       "      <th>MonthClaimed</th>\n",
       "      <th>WeekOfMonthClaimed</th>\n",
       "      <th>Sex</th>\n",
       "      <th>MaritalStatus</th>\n",
       "      <th>...</th>\n",
       "      <th>AgeOfVehicle</th>\n",
       "      <th>AgeOfPolicyHolder</th>\n",
       "      <th>PoliceReportFiled</th>\n",
       "      <th>WitnessPresent</th>\n",
       "      <th>AgentType</th>\n",
       "      <th>NumberOfSuppliments</th>\n",
       "      <th>AddressChange_Claim</th>\n",
       "      <th>NumberOfCars</th>\n",
       "      <th>Year</th>\n",
       "      <th>BasePolicy</th>\n",
       "    </tr>\n",
       "  </thead>\n",
       "  <tbody>\n",
       "    <tr>\n",
       "      <th>0</th>\n",
       "      <td>Dec</td>\n",
       "      <td>5</td>\n",
       "      <td>Wednesday</td>\n",
       "      <td>Honda</td>\n",
       "      <td>Urban</td>\n",
       "      <td>Tuesday</td>\n",
       "      <td>Jan</td>\n",
       "      <td>1</td>\n",
       "      <td>Female</td>\n",
       "      <td>Single</td>\n",
       "      <td>...</td>\n",
       "      <td>3 years</td>\n",
       "      <td>26 to 30</td>\n",
       "      <td>No</td>\n",
       "      <td>No</td>\n",
       "      <td>External</td>\n",
       "      <td>none</td>\n",
       "      <td>1 year</td>\n",
       "      <td>3 to 4</td>\n",
       "      <td>1994</td>\n",
       "      <td>Liability</td>\n",
       "    </tr>\n",
       "    <tr>\n",
       "      <th>1</th>\n",
       "      <td>Jan</td>\n",
       "      <td>3</td>\n",
       "      <td>Wednesday</td>\n",
       "      <td>Honda</td>\n",
       "      <td>Urban</td>\n",
       "      <td>Monday</td>\n",
       "      <td>Jan</td>\n",
       "      <td>4</td>\n",
       "      <td>Male</td>\n",
       "      <td>Single</td>\n",
       "      <td>...</td>\n",
       "      <td>6 years</td>\n",
       "      <td>31 to 35</td>\n",
       "      <td>Yes</td>\n",
       "      <td>No</td>\n",
       "      <td>External</td>\n",
       "      <td>none</td>\n",
       "      <td>no change</td>\n",
       "      <td>1 vehicle</td>\n",
       "      <td>1994</td>\n",
       "      <td>Collision</td>\n",
       "    </tr>\n",
       "    <tr>\n",
       "      <th>2</th>\n",
       "      <td>Oct</td>\n",
       "      <td>5</td>\n",
       "      <td>Friday</td>\n",
       "      <td>Honda</td>\n",
       "      <td>Urban</td>\n",
       "      <td>Thursday</td>\n",
       "      <td>Nov</td>\n",
       "      <td>2</td>\n",
       "      <td>Male</td>\n",
       "      <td>Married</td>\n",
       "      <td>...</td>\n",
       "      <td>7 years</td>\n",
       "      <td>41 to 50</td>\n",
       "      <td>No</td>\n",
       "      <td>No</td>\n",
       "      <td>External</td>\n",
       "      <td>none</td>\n",
       "      <td>no change</td>\n",
       "      <td>1 vehicle</td>\n",
       "      <td>1994</td>\n",
       "      <td>Collision</td>\n",
       "    </tr>\n",
       "    <tr>\n",
       "      <th>3</th>\n",
       "      <td>Jun</td>\n",
       "      <td>2</td>\n",
       "      <td>Saturday</td>\n",
       "      <td>Toyota</td>\n",
       "      <td>Rural</td>\n",
       "      <td>Friday</td>\n",
       "      <td>Jul</td>\n",
       "      <td>1</td>\n",
       "      <td>Male</td>\n",
       "      <td>Married</td>\n",
       "      <td>...</td>\n",
       "      <td>more than 7</td>\n",
       "      <td>51 to 65</td>\n",
       "      <td>Yes</td>\n",
       "      <td>No</td>\n",
       "      <td>External</td>\n",
       "      <td>more than 5</td>\n",
       "      <td>no change</td>\n",
       "      <td>1 vehicle</td>\n",
       "      <td>1994</td>\n",
       "      <td>Liability</td>\n",
       "    </tr>\n",
       "    <tr>\n",
       "      <th>4</th>\n",
       "      <td>Jan</td>\n",
       "      <td>5</td>\n",
       "      <td>Monday</td>\n",
       "      <td>Honda</td>\n",
       "      <td>Urban</td>\n",
       "      <td>Tuesday</td>\n",
       "      <td>Feb</td>\n",
       "      <td>2</td>\n",
       "      <td>Female</td>\n",
       "      <td>Single</td>\n",
       "      <td>...</td>\n",
       "      <td>5 years</td>\n",
       "      <td>31 to 35</td>\n",
       "      <td>No</td>\n",
       "      <td>No</td>\n",
       "      <td>External</td>\n",
       "      <td>none</td>\n",
       "      <td>no change</td>\n",
       "      <td>1 vehicle</td>\n",
       "      <td>1994</td>\n",
       "      <td>Collision</td>\n",
       "    </tr>\n",
       "    <tr>\n",
       "      <th>...</th>\n",
       "      <td>...</td>\n",
       "      <td>...</td>\n",
       "      <td>...</td>\n",
       "      <td>...</td>\n",
       "      <td>...</td>\n",
       "      <td>...</td>\n",
       "      <td>...</td>\n",
       "      <td>...</td>\n",
       "      <td>...</td>\n",
       "      <td>...</td>\n",
       "      <td>...</td>\n",
       "      <td>...</td>\n",
       "      <td>...</td>\n",
       "      <td>...</td>\n",
       "      <td>...</td>\n",
       "      <td>...</td>\n",
       "      <td>...</td>\n",
       "      <td>...</td>\n",
       "      <td>...</td>\n",
       "      <td>...</td>\n",
       "      <td>...</td>\n",
       "    </tr>\n",
       "    <tr>\n",
       "      <th>15415</th>\n",
       "      <td>Nov</td>\n",
       "      <td>4</td>\n",
       "      <td>Friday</td>\n",
       "      <td>Toyota</td>\n",
       "      <td>Urban</td>\n",
       "      <td>Tuesday</td>\n",
       "      <td>Nov</td>\n",
       "      <td>5</td>\n",
       "      <td>Male</td>\n",
       "      <td>Married</td>\n",
       "      <td>...</td>\n",
       "      <td>6 years</td>\n",
       "      <td>31 to 35</td>\n",
       "      <td>No</td>\n",
       "      <td>No</td>\n",
       "      <td>External</td>\n",
       "      <td>none</td>\n",
       "      <td>no change</td>\n",
       "      <td>1 vehicle</td>\n",
       "      <td>1996</td>\n",
       "      <td>Collision</td>\n",
       "    </tr>\n",
       "    <tr>\n",
       "      <th>15416</th>\n",
       "      <td>Nov</td>\n",
       "      <td>5</td>\n",
       "      <td>Thursday</td>\n",
       "      <td>Pontiac</td>\n",
       "      <td>Urban</td>\n",
       "      <td>Friday</td>\n",
       "      <td>Dec</td>\n",
       "      <td>1</td>\n",
       "      <td>Male</td>\n",
       "      <td>Married</td>\n",
       "      <td>...</td>\n",
       "      <td>6 years</td>\n",
       "      <td>31 to 35</td>\n",
       "      <td>No</td>\n",
       "      <td>No</td>\n",
       "      <td>External</td>\n",
       "      <td>more than 5</td>\n",
       "      <td>no change</td>\n",
       "      <td>3 to 4</td>\n",
       "      <td>1996</td>\n",
       "      <td>Liability</td>\n",
       "    </tr>\n",
       "    <tr>\n",
       "      <th>15417</th>\n",
       "      <td>Nov</td>\n",
       "      <td>5</td>\n",
       "      <td>Thursday</td>\n",
       "      <td>Toyota</td>\n",
       "      <td>Rural</td>\n",
       "      <td>Friday</td>\n",
       "      <td>Dec</td>\n",
       "      <td>1</td>\n",
       "      <td>Male</td>\n",
       "      <td>Single</td>\n",
       "      <td>...</td>\n",
       "      <td>5 years</td>\n",
       "      <td>26 to 30</td>\n",
       "      <td>No</td>\n",
       "      <td>No</td>\n",
       "      <td>External</td>\n",
       "      <td>1 to 2</td>\n",
       "      <td>no change</td>\n",
       "      <td>1 vehicle</td>\n",
       "      <td>1996</td>\n",
       "      <td>Collision</td>\n",
       "    </tr>\n",
       "    <tr>\n",
       "      <th>15418</th>\n",
       "      <td>Dec</td>\n",
       "      <td>1</td>\n",
       "      <td>Monday</td>\n",
       "      <td>Toyota</td>\n",
       "      <td>Urban</td>\n",
       "      <td>Thursday</td>\n",
       "      <td>Dec</td>\n",
       "      <td>2</td>\n",
       "      <td>Female</td>\n",
       "      <td>Married</td>\n",
       "      <td>...</td>\n",
       "      <td>2 years</td>\n",
       "      <td>31 to 35</td>\n",
       "      <td>No</td>\n",
       "      <td>No</td>\n",
       "      <td>External</td>\n",
       "      <td>more than 5</td>\n",
       "      <td>no change</td>\n",
       "      <td>1 vehicle</td>\n",
       "      <td>1996</td>\n",
       "      <td>All Perils</td>\n",
       "    </tr>\n",
       "    <tr>\n",
       "      <th>15419</th>\n",
       "      <td>Dec</td>\n",
       "      <td>2</td>\n",
       "      <td>Wednesday</td>\n",
       "      <td>Toyota</td>\n",
       "      <td>Urban</td>\n",
       "      <td>Thursday</td>\n",
       "      <td>Dec</td>\n",
       "      <td>3</td>\n",
       "      <td>Male</td>\n",
       "      <td>Single</td>\n",
       "      <td>...</td>\n",
       "      <td>5 years</td>\n",
       "      <td>26 to 30</td>\n",
       "      <td>No</td>\n",
       "      <td>No</td>\n",
       "      <td>External</td>\n",
       "      <td>1 to 2</td>\n",
       "      <td>no change</td>\n",
       "      <td>1 vehicle</td>\n",
       "      <td>1996</td>\n",
       "      <td>Collision</td>\n",
       "    </tr>\n",
       "  </tbody>\n",
       "</table>\n",
       "<p>15420 rows × 33 columns</p>\n",
       "</div>"
      ],
      "text/plain": [
       "      Month  WeekOfMonth  DayOfWeek     Make AccidentArea DayOfWeekClaimed  \\\n",
       "0       Dec            5  Wednesday    Honda        Urban          Tuesday   \n",
       "1       Jan            3  Wednesday    Honda        Urban           Monday   \n",
       "2       Oct            5     Friday    Honda        Urban         Thursday   \n",
       "3       Jun            2   Saturday   Toyota        Rural           Friday   \n",
       "4       Jan            5     Monday    Honda        Urban          Tuesday   \n",
       "...     ...          ...        ...      ...          ...              ...   \n",
       "15415   Nov            4     Friday   Toyota        Urban          Tuesday   \n",
       "15416   Nov            5   Thursday  Pontiac        Urban           Friday   \n",
       "15417   Nov            5   Thursday   Toyota        Rural           Friday   \n",
       "15418   Dec            1     Monday   Toyota        Urban         Thursday   \n",
       "15419   Dec            2  Wednesday   Toyota        Urban         Thursday   \n",
       "\n",
       "      MonthClaimed  WeekOfMonthClaimed     Sex MaritalStatus  ...  \\\n",
       "0              Jan                   1  Female        Single  ...   \n",
       "1              Jan                   4    Male        Single  ...   \n",
       "2              Nov                   2    Male       Married  ...   \n",
       "3              Jul                   1    Male       Married  ...   \n",
       "4              Feb                   2  Female        Single  ...   \n",
       "...            ...                 ...     ...           ...  ...   \n",
       "15415          Nov                   5    Male       Married  ...   \n",
       "15416          Dec                   1    Male       Married  ...   \n",
       "15417          Dec                   1    Male        Single  ...   \n",
       "15418          Dec                   2  Female       Married  ...   \n",
       "15419          Dec                   3    Male        Single  ...   \n",
       "\n",
       "       AgeOfVehicle AgeOfPolicyHolder PoliceReportFiled WitnessPresent  \\\n",
       "0           3 years          26 to 30                No             No   \n",
       "1           6 years          31 to 35               Yes             No   \n",
       "2           7 years          41 to 50                No             No   \n",
       "3       more than 7          51 to 65               Yes             No   \n",
       "4           5 years          31 to 35                No             No   \n",
       "...             ...               ...               ...            ...   \n",
       "15415       6 years          31 to 35                No             No   \n",
       "15416       6 years          31 to 35                No             No   \n",
       "15417       5 years          26 to 30                No             No   \n",
       "15418       2 years          31 to 35                No             No   \n",
       "15419       5 years          26 to 30                No             No   \n",
       "\n",
       "      AgentType  NumberOfSuppliments  AddressChange_Claim  NumberOfCars  Year  \\\n",
       "0      External                 none               1 year        3 to 4  1994   \n",
       "1      External                 none            no change     1 vehicle  1994   \n",
       "2      External                 none            no change     1 vehicle  1994   \n",
       "3      External          more than 5            no change     1 vehicle  1994   \n",
       "4      External                 none            no change     1 vehicle  1994   \n",
       "...         ...                  ...                  ...           ...   ...   \n",
       "15415  External                 none            no change     1 vehicle  1996   \n",
       "15416  External          more than 5            no change        3 to 4  1996   \n",
       "15417  External               1 to 2            no change     1 vehicle  1996   \n",
       "15418  External          more than 5            no change     1 vehicle  1996   \n",
       "15419  External               1 to 2            no change     1 vehicle  1996   \n",
       "\n",
       "       BasePolicy  \n",
       "0       Liability  \n",
       "1       Collision  \n",
       "2       Collision  \n",
       "3       Liability  \n",
       "4       Collision  \n",
       "...           ...  \n",
       "15415   Collision  \n",
       "15416   Liability  \n",
       "15417   Collision  \n",
       "15418  All Perils  \n",
       "15419   Collision  \n",
       "\n",
       "[15420 rows x 33 columns]"
      ]
     },
     "execution_count": 3,
     "metadata": {},
     "output_type": "execute_result"
    }
   ],
   "source": [
    "df = pd.read_csv('fraud_oracle.csv')\n",
    "df"
   ]
  },
  {
   "cell_type": "code",
   "execution_count": 4,
   "id": "e58ec7e2",
   "metadata": {
    "execution": {
     "iopub.execute_input": "2024-07-14T08:43:35.934943Z",
     "iopub.status.busy": "2024-07-14T08:43:35.934506Z",
     "iopub.status.idle": "2024-07-14T08:43:35.973451Z",
     "shell.execute_reply": "2024-07-14T08:43:35.972121Z"
    },
    "papermill": {
     "duration": 0.05555,
     "end_time": "2024-07-14T08:43:35.975985",
     "exception": false,
     "start_time": "2024-07-14T08:43:35.920435",
     "status": "completed"
    },
    "tags": []
   },
   "outputs": [
    {
     "name": "stdout",
     "output_type": "stream",
     "text": [
      "<class 'pandas.core.frame.DataFrame'>\n",
      "RangeIndex: 15420 entries, 0 to 15419\n",
      "Data columns (total 33 columns):\n",
      " #   Column                Non-Null Count  Dtype \n",
      "---  ------                --------------  ----- \n",
      " 0   Month                 15420 non-null  object\n",
      " 1   WeekOfMonth           15420 non-null  int64 \n",
      " 2   DayOfWeek             15420 non-null  object\n",
      " 3   Make                  15420 non-null  object\n",
      " 4   AccidentArea          15420 non-null  object\n",
      " 5   DayOfWeekClaimed      15420 non-null  object\n",
      " 6   MonthClaimed          15420 non-null  object\n",
      " 7   WeekOfMonthClaimed    15420 non-null  int64 \n",
      " 8   Sex                   15420 non-null  object\n",
      " 9   MaritalStatus         15420 non-null  object\n",
      " 10  Age                   15420 non-null  int64 \n",
      " 11  Fault                 15420 non-null  object\n",
      " 12  PolicyType            15420 non-null  object\n",
      " 13  VehicleCategory       15420 non-null  object\n",
      " 14  VehiclePrice          15420 non-null  object\n",
      " 15  FraudFound_P          15420 non-null  int64 \n",
      " 16  PolicyNumber          15420 non-null  int64 \n",
      " 17  RepNumber             15420 non-null  int64 \n",
      " 18  Deductible            15420 non-null  int64 \n",
      " 19  DriverRating          15420 non-null  int64 \n",
      " 20  Days_Policy_Accident  15420 non-null  object\n",
      " 21  Days_Policy_Claim     15420 non-null  object\n",
      " 22  PastNumberOfClaims    15420 non-null  object\n",
      " 23  AgeOfVehicle          15420 non-null  object\n",
      " 24  AgeOfPolicyHolder     15420 non-null  object\n",
      " 25  PoliceReportFiled     15420 non-null  object\n",
      " 26  WitnessPresent        15420 non-null  object\n",
      " 27  AgentType             15420 non-null  object\n",
      " 28  NumberOfSuppliments   15420 non-null  object\n",
      " 29  AddressChange_Claim   15420 non-null  object\n",
      " 30  NumberOfCars          15420 non-null  object\n",
      " 31  Year                  15420 non-null  int64 \n",
      " 32  BasePolicy            15420 non-null  object\n",
      "dtypes: int64(9), object(24)\n",
      "memory usage: 3.9+ MB\n"
     ]
    }
   ],
   "source": [
    "df.info()"
   ]
  },
  {
   "cell_type": "code",
   "execution_count": 5,
   "id": "1a63d48c",
   "metadata": {
    "execution": {
     "iopub.execute_input": "2024-07-14T08:43:36.004737Z",
     "iopub.status.busy": "2024-07-14T08:43:36.004338Z",
     "iopub.status.idle": "2024-07-14T08:43:36.031716Z",
     "shell.execute_reply": "2024-07-14T08:43:36.030711Z"
    },
    "papermill": {
     "duration": 0.044405,
     "end_time": "2024-07-14T08:43:36.033769",
     "exception": false,
     "start_time": "2024-07-14T08:43:35.989364",
     "status": "completed"
    },
    "tags": []
   },
   "outputs": [
    {
     "data": {
      "text/plain": [
       "Month                   0\n",
       "WeekOfMonth             0\n",
       "DayOfWeek               0\n",
       "Make                    0\n",
       "AccidentArea            0\n",
       "DayOfWeekClaimed        0\n",
       "MonthClaimed            0\n",
       "WeekOfMonthClaimed      0\n",
       "Sex                     0\n",
       "MaritalStatus           0\n",
       "Age                     0\n",
       "Fault                   0\n",
       "PolicyType              0\n",
       "VehicleCategory         0\n",
       "VehiclePrice            0\n",
       "FraudFound_P            0\n",
       "PolicyNumber            0\n",
       "RepNumber               0\n",
       "Deductible              0\n",
       "DriverRating            0\n",
       "Days_Policy_Accident    0\n",
       "Days_Policy_Claim       0\n",
       "PastNumberOfClaims      0\n",
       "AgeOfVehicle            0\n",
       "AgeOfPolicyHolder       0\n",
       "PoliceReportFiled       0\n",
       "WitnessPresent          0\n",
       "AgentType               0\n",
       "NumberOfSuppliments     0\n",
       "AddressChange_Claim     0\n",
       "NumberOfCars            0\n",
       "Year                    0\n",
       "BasePolicy              0\n",
       "dtype: int64"
      ]
     },
     "execution_count": 5,
     "metadata": {},
     "output_type": "execute_result"
    }
   ],
   "source": [
    "df.isnull().sum()"
   ]
  },
  {
   "cell_type": "code",
   "execution_count": 6,
   "id": "15eeeb16",
   "metadata": {
    "execution": {
     "iopub.execute_input": "2024-07-14T08:43:36.062073Z",
     "iopub.status.busy": "2024-07-14T08:43:36.061710Z",
     "iopub.status.idle": "2024-07-14T08:43:36.100480Z",
     "shell.execute_reply": "2024-07-14T08:43:36.099348Z"
    },
    "papermill": {
     "duration": 0.055709,
     "end_time": "2024-07-14T08:43:36.102933",
     "exception": false,
     "start_time": "2024-07-14T08:43:36.047224",
     "status": "completed"
    },
    "tags": []
   },
   "outputs": [
    {
     "data": {
      "text/plain": [
       "0"
      ]
     },
     "execution_count": 6,
     "metadata": {},
     "output_type": "execute_result"
    }
   ],
   "source": [
    "df.duplicated().sum()"
   ]
  },
  {
   "cell_type": "code",
   "execution_count": null,
   "id": "9e6488b5",
   "metadata": {
    "execution": {
     "iopub.execute_input": "2024-07-14T08:43:36.166672Z",
     "iopub.status.busy": "2024-07-14T08:43:36.166275Z",
     "iopub.status.idle": "2024-07-14T08:43:36.193634Z",
     "shell.execute_reply": "2024-07-14T08:43:36.192384Z"
    },
    "papermill": {
     "duration": 0.044334,
     "end_time": "2024-07-14T08:43:36.196021",
     "exception": false,
     "start_time": "2024-07-14T08:43:36.151687",
     "status": "completed"
    },
    "tags": []
   },
   "outputs": [
    {
     "data": {
      "text/html": [
       "<div>\n",
       "<style scoped>\n",
       "    .dataframe tbody tr th:only-of-type {\n",
       "        vertical-align: middle;\n",
       "    }\n",
       "\n",
       "    .dataframe tbody tr th {\n",
       "        vertical-align: top;\n",
       "    }\n",
       "\n",
       "    .dataframe thead th {\n",
       "        text-align: right;\n",
       "    }\n",
       "</style>\n",
       "<table border=\"1\" class=\"dataframe\">\n",
       "  <thead>\n",
       "    <tr style=\"text-align: right;\">\n",
       "      <th></th>\n",
       "      <th>Month</th>\n",
       "      <th>WeekOfMonth</th>\n",
       "      <th>DayOfWeek</th>\n",
       "      <th>Make</th>\n",
       "      <th>AccidentArea</th>\n",
       "      <th>DayOfWeekClaimed</th>\n",
       "      <th>MonthClaimed</th>\n",
       "      <th>WeekOfMonthClaimed</th>\n",
       "      <th>Sex</th>\n",
       "      <th>MaritalStatus</th>\n",
       "      <th>...</th>\n",
       "      <th>AgeOfVehicle</th>\n",
       "      <th>AgeOfPolicyHolder</th>\n",
       "      <th>PoliceReportFiled</th>\n",
       "      <th>WitnessPresent</th>\n",
       "      <th>AgentType</th>\n",
       "      <th>NumberOfSuppliments</th>\n",
       "      <th>AddressChange_Claim</th>\n",
       "      <th>NumberOfCars</th>\n",
       "      <th>Year</th>\n",
       "      <th>BasePolicy</th>\n",
       "    </tr>\n",
       "  </thead>\n",
       "  <tbody>\n",
       "    <tr>\n",
       "      <th>0</th>\n",
       "      <td>Dec</td>\n",
       "      <td>5</td>\n",
       "      <td>Wednesday</td>\n",
       "      <td>Honda</td>\n",
       "      <td>Urban</td>\n",
       "      <td>Tuesday</td>\n",
       "      <td>Jan</td>\n",
       "      <td>1</td>\n",
       "      <td>Female</td>\n",
       "      <td>Single</td>\n",
       "      <td>...</td>\n",
       "      <td>3 years</td>\n",
       "      <td>26 to 30</td>\n",
       "      <td>No</td>\n",
       "      <td>No</td>\n",
       "      <td>External</td>\n",
       "      <td>none</td>\n",
       "      <td>1 year</td>\n",
       "      <td>3 to 4</td>\n",
       "      <td>1994</td>\n",
       "      <td>Liability</td>\n",
       "    </tr>\n",
       "    <tr>\n",
       "      <th>1</th>\n",
       "      <td>Jan</td>\n",
       "      <td>3</td>\n",
       "      <td>Wednesday</td>\n",
       "      <td>Honda</td>\n",
       "      <td>Urban</td>\n",
       "      <td>Monday</td>\n",
       "      <td>Jan</td>\n",
       "      <td>4</td>\n",
       "      <td>Male</td>\n",
       "      <td>Single</td>\n",
       "      <td>...</td>\n",
       "      <td>6 years</td>\n",
       "      <td>31 to 35</td>\n",
       "      <td>Yes</td>\n",
       "      <td>No</td>\n",
       "      <td>External</td>\n",
       "      <td>none</td>\n",
       "      <td>no change</td>\n",
       "      <td>1 vehicle</td>\n",
       "      <td>1994</td>\n",
       "      <td>Collision</td>\n",
       "    </tr>\n",
       "    <tr>\n",
       "      <th>2</th>\n",
       "      <td>Oct</td>\n",
       "      <td>5</td>\n",
       "      <td>Friday</td>\n",
       "      <td>Honda</td>\n",
       "      <td>Urban</td>\n",
       "      <td>Thursday</td>\n",
       "      <td>Nov</td>\n",
       "      <td>2</td>\n",
       "      <td>Male</td>\n",
       "      <td>Married</td>\n",
       "      <td>...</td>\n",
       "      <td>7 years</td>\n",
       "      <td>41 to 50</td>\n",
       "      <td>No</td>\n",
       "      <td>No</td>\n",
       "      <td>External</td>\n",
       "      <td>none</td>\n",
       "      <td>no change</td>\n",
       "      <td>1 vehicle</td>\n",
       "      <td>1994</td>\n",
       "      <td>Collision</td>\n",
       "    </tr>\n",
       "    <tr>\n",
       "      <th>3</th>\n",
       "      <td>Jun</td>\n",
       "      <td>2</td>\n",
       "      <td>Saturday</td>\n",
       "      <td>Toyota</td>\n",
       "      <td>Rural</td>\n",
       "      <td>Friday</td>\n",
       "      <td>Jul</td>\n",
       "      <td>1</td>\n",
       "      <td>Male</td>\n",
       "      <td>Married</td>\n",
       "      <td>...</td>\n",
       "      <td>more than 7</td>\n",
       "      <td>51 to 65</td>\n",
       "      <td>Yes</td>\n",
       "      <td>No</td>\n",
       "      <td>External</td>\n",
       "      <td>more than 5</td>\n",
       "      <td>no change</td>\n",
       "      <td>1 vehicle</td>\n",
       "      <td>1994</td>\n",
       "      <td>Liability</td>\n",
       "    </tr>\n",
       "    <tr>\n",
       "      <th>4</th>\n",
       "      <td>Jan</td>\n",
       "      <td>5</td>\n",
       "      <td>Monday</td>\n",
       "      <td>Honda</td>\n",
       "      <td>Urban</td>\n",
       "      <td>Tuesday</td>\n",
       "      <td>Feb</td>\n",
       "      <td>2</td>\n",
       "      <td>Female</td>\n",
       "      <td>Single</td>\n",
       "      <td>...</td>\n",
       "      <td>5 years</td>\n",
       "      <td>31 to 35</td>\n",
       "      <td>No</td>\n",
       "      <td>No</td>\n",
       "      <td>External</td>\n",
       "      <td>none</td>\n",
       "      <td>no change</td>\n",
       "      <td>1 vehicle</td>\n",
       "      <td>1994</td>\n",
       "      <td>Collision</td>\n",
       "    </tr>\n",
       "    <tr>\n",
       "      <th>5</th>\n",
       "      <td>Oct</td>\n",
       "      <td>4</td>\n",
       "      <td>Friday</td>\n",
       "      <td>Honda</td>\n",
       "      <td>Urban</td>\n",
       "      <td>Wednesday</td>\n",
       "      <td>Nov</td>\n",
       "      <td>1</td>\n",
       "      <td>Male</td>\n",
       "      <td>Single</td>\n",
       "      <td>...</td>\n",
       "      <td>5 years</td>\n",
       "      <td>21 to 25</td>\n",
       "      <td>No</td>\n",
       "      <td>No</td>\n",
       "      <td>External</td>\n",
       "      <td>3 to 5</td>\n",
       "      <td>no change</td>\n",
       "      <td>1 vehicle</td>\n",
       "      <td>1994</td>\n",
       "      <td>Collision</td>\n",
       "    </tr>\n",
       "    <tr>\n",
       "      <th>6</th>\n",
       "      <td>Feb</td>\n",
       "      <td>1</td>\n",
       "      <td>Saturday</td>\n",
       "      <td>Honda</td>\n",
       "      <td>Urban</td>\n",
       "      <td>Monday</td>\n",
       "      <td>Feb</td>\n",
       "      <td>3</td>\n",
       "      <td>Male</td>\n",
       "      <td>Married</td>\n",
       "      <td>...</td>\n",
       "      <td>7 years</td>\n",
       "      <td>36 to 40</td>\n",
       "      <td>No</td>\n",
       "      <td>No</td>\n",
       "      <td>External</td>\n",
       "      <td>1 to 2</td>\n",
       "      <td>no change</td>\n",
       "      <td>1 vehicle</td>\n",
       "      <td>1994</td>\n",
       "      <td>Collision</td>\n",
       "    </tr>\n",
       "    <tr>\n",
       "      <th>7</th>\n",
       "      <td>Nov</td>\n",
       "      <td>1</td>\n",
       "      <td>Friday</td>\n",
       "      <td>Honda</td>\n",
       "      <td>Urban</td>\n",
       "      <td>Tuesday</td>\n",
       "      <td>Mar</td>\n",
       "      <td>4</td>\n",
       "      <td>Male</td>\n",
       "      <td>Single</td>\n",
       "      <td>...</td>\n",
       "      <td>new</td>\n",
       "      <td>16 to 17</td>\n",
       "      <td>No</td>\n",
       "      <td>No</td>\n",
       "      <td>External</td>\n",
       "      <td>none</td>\n",
       "      <td>no change</td>\n",
       "      <td>1 vehicle</td>\n",
       "      <td>1994</td>\n",
       "      <td>Collision</td>\n",
       "    </tr>\n",
       "    <tr>\n",
       "      <th>8</th>\n",
       "      <td>Dec</td>\n",
       "      <td>4</td>\n",
       "      <td>Saturday</td>\n",
       "      <td>Honda</td>\n",
       "      <td>Urban</td>\n",
       "      <td>Wednesday</td>\n",
       "      <td>Dec</td>\n",
       "      <td>5</td>\n",
       "      <td>Male</td>\n",
       "      <td>Single</td>\n",
       "      <td>...</td>\n",
       "      <td>6 years</td>\n",
       "      <td>31 to 35</td>\n",
       "      <td>No</td>\n",
       "      <td>Yes</td>\n",
       "      <td>External</td>\n",
       "      <td>3 to 5</td>\n",
       "      <td>no change</td>\n",
       "      <td>1 vehicle</td>\n",
       "      <td>1994</td>\n",
       "      <td>Collision</td>\n",
       "    </tr>\n",
       "    <tr>\n",
       "      <th>9</th>\n",
       "      <td>Apr</td>\n",
       "      <td>3</td>\n",
       "      <td>Tuesday</td>\n",
       "      <td>Ford</td>\n",
       "      <td>Urban</td>\n",
       "      <td>Wednesday</td>\n",
       "      <td>Apr</td>\n",
       "      <td>3</td>\n",
       "      <td>Male</td>\n",
       "      <td>Married</td>\n",
       "      <td>...</td>\n",
       "      <td>more than 7</td>\n",
       "      <td>36 to 40</td>\n",
       "      <td>No</td>\n",
       "      <td>No</td>\n",
       "      <td>External</td>\n",
       "      <td>3 to 5</td>\n",
       "      <td>no change</td>\n",
       "      <td>1 vehicle</td>\n",
       "      <td>1994</td>\n",
       "      <td>All Perils</td>\n",
       "    </tr>\n",
       "  </tbody>\n",
       "</table>\n",
       "<p>10 rows × 33 columns</p>\n",
       "</div>"
      ],
      "text/plain": [
       "  Month  WeekOfMonth  DayOfWeek    Make AccidentArea DayOfWeekClaimed  \\\n",
       "0   Dec            5  Wednesday   Honda        Urban          Tuesday   \n",
       "1   Jan            3  Wednesday   Honda        Urban           Monday   \n",
       "2   Oct            5     Friday   Honda        Urban         Thursday   \n",
       "3   Jun            2   Saturday  Toyota        Rural           Friday   \n",
       "4   Jan            5     Monday   Honda        Urban          Tuesday   \n",
       "5   Oct            4     Friday   Honda        Urban        Wednesday   \n",
       "6   Feb            1   Saturday   Honda        Urban           Monday   \n",
       "7   Nov            1     Friday   Honda        Urban          Tuesday   \n",
       "8   Dec            4   Saturday   Honda        Urban        Wednesday   \n",
       "9   Apr            3    Tuesday    Ford        Urban        Wednesday   \n",
       "\n",
       "  MonthClaimed  WeekOfMonthClaimed     Sex MaritalStatus  ...  AgeOfVehicle  \\\n",
       "0          Jan                   1  Female        Single  ...       3 years   \n",
       "1          Jan                   4    Male        Single  ...       6 years   \n",
       "2          Nov                   2    Male       Married  ...       7 years   \n",
       "3          Jul                   1    Male       Married  ...   more than 7   \n",
       "4          Feb                   2  Female        Single  ...       5 years   \n",
       "5          Nov                   1    Male        Single  ...       5 years   \n",
       "6          Feb                   3    Male       Married  ...       7 years   \n",
       "7          Mar                   4    Male        Single  ...           new   \n",
       "8          Dec                   5    Male        Single  ...       6 years   \n",
       "9          Apr                   3    Male       Married  ...   more than 7   \n",
       "\n",
       "  AgeOfPolicyHolder PoliceReportFiled WitnessPresent AgentType  \\\n",
       "0          26 to 30                No             No  External   \n",
       "1          31 to 35               Yes             No  External   \n",
       "2          41 to 50                No             No  External   \n",
       "3          51 to 65               Yes             No  External   \n",
       "4          31 to 35                No             No  External   \n",
       "5          21 to 25                No             No  External   \n",
       "6          36 to 40                No             No  External   \n",
       "7          16 to 17                No             No  External   \n",
       "8          31 to 35                No            Yes  External   \n",
       "9          36 to 40                No             No  External   \n",
       "\n",
       "   NumberOfSuppliments  AddressChange_Claim  NumberOfCars  Year  BasePolicy  \n",
       "0                 none               1 year        3 to 4  1994   Liability  \n",
       "1                 none            no change     1 vehicle  1994   Collision  \n",
       "2                 none            no change     1 vehicle  1994   Collision  \n",
       "3          more than 5            no change     1 vehicle  1994   Liability  \n",
       "4                 none            no change     1 vehicle  1994   Collision  \n",
       "5               3 to 5            no change     1 vehicle  1994   Collision  \n",
       "6               1 to 2            no change     1 vehicle  1994   Collision  \n",
       "7                 none            no change     1 vehicle  1994   Collision  \n",
       "8               3 to 5            no change     1 vehicle  1994   Collision  \n",
       "9               3 to 5            no change     1 vehicle  1994  All Perils  \n",
       "\n",
       "[10 rows x 33 columns]"
      ]
     },
     "execution_count": 7,
     "metadata": {},
     "output_type": "execute_result"
    }
   ],
   "source": [
    "df.head()"
   ]
  },
  {
   "cell_type": "code",
   "execution_count": 8,
   "id": "792bf0ac",
   "metadata": {
    "execution": {
     "iopub.execute_input": "2024-07-14T08:43:36.252404Z",
     "iopub.status.busy": "2024-07-14T08:43:36.251369Z",
     "iopub.status.idle": "2024-07-14T08:43:36.260860Z",
     "shell.execute_reply": "2024-07-14T08:43:36.259906Z"
    },
    "papermill": {
     "duration": 0.026552,
     "end_time": "2024-07-14T08:43:36.263236",
     "exception": false,
     "start_time": "2024-07-14T08:43:36.236684",
     "status": "completed"
    },
    "tags": []
   },
   "outputs": [
    {
     "data": {
      "text/plain": [
       "PastNumberOfClaims\n",
       "2 to 4         5485\n",
       "none           4352\n",
       "1              3573\n",
       "more than 4    2010\n",
       "Name: count, dtype: int64"
      ]
     },
     "execution_count": 8,
     "metadata": {},
     "output_type": "execute_result"
    }
   ],
   "source": [
    "df['PastNumberOfClaims'].value_counts()"
   ]
  },
  {
   "cell_type": "code",
   "execution_count": 9,
   "id": "80b0547e",
   "metadata": {
    "execution": {
     "iopub.execute_input": "2024-07-14T08:43:36.292315Z",
     "iopub.status.busy": "2024-07-14T08:43:36.291929Z",
     "iopub.status.idle": "2024-07-14T08:43:36.297356Z",
     "shell.execute_reply": "2024-07-14T08:43:36.296390Z"
    },
    "papermill": {
     "duration": 0.022555,
     "end_time": "2024-07-14T08:43:36.299594",
     "exception": false,
     "start_time": "2024-07-14T08:43:36.277039",
     "status": "completed"
    },
    "tags": []
   },
   "outputs": [],
   "source": [
    "df.rename(columns = {'FraudFound_P':'Fraud'},inplace = True)"
   ]
  },
  {
   "cell_type": "code",
   "execution_count": 10,
   "id": "9e0cd2bd",
   "metadata": {
    "execution": {
     "iopub.execute_input": "2024-07-14T08:43:36.328340Z",
     "iopub.status.busy": "2024-07-14T08:43:36.327975Z",
     "iopub.status.idle": "2024-07-14T08:43:36.337302Z",
     "shell.execute_reply": "2024-07-14T08:43:36.336194Z"
    },
    "papermill": {
     "duration": 0.026698,
     "end_time": "2024-07-14T08:43:36.339833",
     "exception": false,
     "start_time": "2024-07-14T08:43:36.313135",
     "status": "completed"
    },
    "tags": []
   },
   "outputs": [
    {
     "data": {
      "text/plain": [
       "Fault\n",
       "Policy Holder    11230\n",
       "Third Party       4190\n",
       "Name: count, dtype: int64"
      ]
     },
     "execution_count": 10,
     "metadata": {},
     "output_type": "execute_result"
    }
   ],
   "source": [
    "df['Fault'].value_counts()"
   ]
  },
  {
   "cell_type": "code",
   "execution_count": 11,
   "id": "4d28d706",
   "metadata": {
    "execution": {
     "iopub.execute_input": "2024-07-14T08:43:36.370340Z",
     "iopub.status.busy": "2024-07-14T08:43:36.369360Z",
     "iopub.status.idle": "2024-07-14T08:43:36.379048Z",
     "shell.execute_reply": "2024-07-14T08:43:36.377913Z"
    },
    "papermill": {
     "duration": 0.027372,
     "end_time": "2024-07-14T08:43:36.381376",
     "exception": false,
     "start_time": "2024-07-14T08:43:36.354004",
     "status": "completed"
    },
    "tags": []
   },
   "outputs": [
    {
     "data": {
      "text/plain": [
       "VehiclePrice\n",
       "20000 to 29000     8079\n",
       "30000 to 39000     3533\n",
       "more than 69000    2164\n",
       "less than 20000    1096\n",
       "40000 to 59000      461\n",
       "60000 to 69000       87\n",
       "Name: count, dtype: int64"
      ]
     },
     "execution_count": 11,
     "metadata": {},
     "output_type": "execute_result"
    }
   ],
   "source": [
    "df['VehiclePrice'].value_counts()"
   ]
  },
  {
   "cell_type": "code",
   "execution_count": 12,
   "id": "4cb8db0f",
   "metadata": {
    "execution": {
     "iopub.execute_input": "2024-07-14T08:43:36.411044Z",
     "iopub.status.busy": "2024-07-14T08:43:36.410640Z",
     "iopub.status.idle": "2024-07-14T08:43:36.419839Z",
     "shell.execute_reply": "2024-07-14T08:43:36.418847Z"
    },
    "papermill": {
     "duration": 0.02654,
     "end_time": "2024-07-14T08:43:36.422013",
     "exception": false,
     "start_time": "2024-07-14T08:43:36.395473",
     "status": "completed"
    },
    "tags": []
   },
   "outputs": [
    {
     "data": {
      "text/plain": [
       "NumberOfCars\n",
       "1 vehicle      14316\n",
       "2 vehicles       709\n",
       "3 to 4           372\n",
       "5 to 8            21\n",
       "more than 8        2\n",
       "Name: count, dtype: int64"
      ]
     },
     "execution_count": 12,
     "metadata": {},
     "output_type": "execute_result"
    }
   ],
   "source": [
    "df['NumberOfCars'].value_counts()"
   ]
  },
  {
   "cell_type": "code",
   "execution_count": 13,
   "id": "8330d015",
   "metadata": {
    "execution": {
     "iopub.execute_input": "2024-07-14T08:43:36.451447Z",
     "iopub.status.busy": "2024-07-14T08:43:36.451051Z",
     "iopub.status.idle": "2024-07-14T08:43:36.460380Z",
     "shell.execute_reply": "2024-07-14T08:43:36.459282Z"
    },
    "papermill": {
     "duration": 0.026922,
     "end_time": "2024-07-14T08:43:36.462804",
     "exception": false,
     "start_time": "2024-07-14T08:43:36.435882",
     "status": "completed"
    },
    "tags": []
   },
   "outputs": [
    {
     "data": {
      "text/plain": [
       "AgeOfVehicle\n",
       "7 years        5807\n",
       "more than 7    3981\n",
       "6 years        3448\n",
       "5 years        1357\n",
       "new             373\n",
       "4 years         229\n",
       "3 years         152\n",
       "2 years          73\n",
       "Name: count, dtype: int64"
      ]
     },
     "execution_count": 13,
     "metadata": {},
     "output_type": "execute_result"
    }
   ],
   "source": [
    "df['AgeOfVehicle'].value_counts()"
   ]
  },
  {
   "cell_type": "code",
   "execution_count": 14,
   "id": "4c80ca63",
   "metadata": {
    "execution": {
     "iopub.execute_input": "2024-07-14T08:43:36.493358Z",
     "iopub.status.busy": "2024-07-14T08:43:36.492689Z",
     "iopub.status.idle": "2024-07-14T08:43:36.503794Z",
     "shell.execute_reply": "2024-07-14T08:43:36.502781Z"
    },
    "papermill": {
     "duration": 0.029199,
     "end_time": "2024-07-14T08:43:36.506082",
     "exception": false,
     "start_time": "2024-07-14T08:43:36.476883",
     "status": "completed"
    },
    "tags": []
   },
   "outputs": [
    {
     "data": {
      "text/plain": [
       "AgentType\n",
       "External    15179\n",
       "Internal      241\n",
       "Name: count, dtype: int64"
      ]
     },
     "execution_count": 14,
     "metadata": {},
     "output_type": "execute_result"
    }
   ],
   "source": [
    "df['AgentType'].value_counts()"
   ]
  },
  {
   "cell_type": "code",
   "execution_count": 15,
   "id": "d3f0511e",
   "metadata": {
    "execution": {
     "iopub.execute_input": "2024-07-14T08:43:36.536344Z",
     "iopub.status.busy": "2024-07-14T08:43:36.535992Z",
     "iopub.status.idle": "2024-07-14T08:43:36.545168Z",
     "shell.execute_reply": "2024-07-14T08:43:36.544139Z"
    },
    "papermill": {
     "duration": 0.027025,
     "end_time": "2024-07-14T08:43:36.547609",
     "exception": false,
     "start_time": "2024-07-14T08:43:36.520584",
     "status": "completed"
    },
    "tags": []
   },
   "outputs": [
    {
     "data": {
      "text/plain": [
       "WitnessPresent\n",
       "No     15333\n",
       "Yes       87\n",
       "Name: count, dtype: int64"
      ]
     },
     "execution_count": 15,
     "metadata": {},
     "output_type": "execute_result"
    }
   ],
   "source": [
    "df['WitnessPresent'].value_counts()"
   ]
  },
  {
   "cell_type": "code",
   "execution_count": 16,
   "id": "9524e30c",
   "metadata": {
    "execution": {
     "iopub.execute_input": "2024-07-14T08:43:36.577872Z",
     "iopub.status.busy": "2024-07-14T08:43:36.577103Z",
     "iopub.status.idle": "2024-07-14T08:43:36.585518Z",
     "shell.execute_reply": "2024-07-14T08:43:36.584474Z"
    },
    "papermill": {
     "duration": 0.026195,
     "end_time": "2024-07-14T08:43:36.587922",
     "exception": false,
     "start_time": "2024-07-14T08:43:36.561727",
     "status": "completed"
    },
    "tags": []
   },
   "outputs": [
    {
     "data": {
      "text/plain": [
       "0         No\n",
       "1        Yes\n",
       "2         No\n",
       "3        Yes\n",
       "4         No\n",
       "        ... \n",
       "15415     No\n",
       "15416     No\n",
       "15417     No\n",
       "15418     No\n",
       "15419     No\n",
       "Name: PoliceReportFiled, Length: 15420, dtype: object"
      ]
     },
     "execution_count": 16,
     "metadata": {},
     "output_type": "execute_result"
    }
   ],
   "source": [
    "df['PoliceReportFiled']"
   ]
  },
  {
   "cell_type": "code",
   "execution_count": 17,
   "id": "c950d50f",
   "metadata": {
    "execution": {
     "iopub.execute_input": "2024-07-14T08:43:36.618467Z",
     "iopub.status.busy": "2024-07-14T08:43:36.618098Z",
     "iopub.status.idle": "2024-07-14T08:43:37.787466Z",
     "shell.execute_reply": "2024-07-14T08:43:37.786249Z"
    },
    "papermill": {
     "duration": 1.187834,
     "end_time": "2024-07-14T08:43:37.790209",
     "exception": false,
     "start_time": "2024-07-14T08:43:36.602375",
     "status": "completed"
    },
    "tags": []
   },
   "outputs": [],
   "source": [
    "from sklearn.preprocessing import LabelEncoder\n",
    "encoder = LabelEncoder()\n",
    "df['AgentType'] = encoder.fit_transform(df['AgentType'])\n",
    "df['PoliceReportFiled'] = encoder.fit_transform(df['PoliceReportFiled'])"
   ]
  },
  {
   "cell_type": "markdown",
   "id": "1cf77250",
   "metadata": {
    "papermill": {
     "duration": 0.014144,
     "end_time": "2024-07-14T08:43:37.818920",
     "exception": false,
     "start_time": "2024-07-14T08:43:37.804776",
     "status": "completed"
    },
    "tags": []
   },
   "source": [
    "## EDA"
   ]
  },
  {
   "cell_type": "code",
   "execution_count": 18,
   "id": "b02720ef",
   "metadata": {
    "execution": {
     "iopub.execute_input": "2024-07-14T08:43:37.850815Z",
     "iopub.status.busy": "2024-07-14T08:43:37.849971Z",
     "iopub.status.idle": "2024-07-14T08:43:38.241283Z",
     "shell.execute_reply": "2024-07-14T08:43:38.240214Z"
    },
    "papermill": {
     "duration": 0.410627,
     "end_time": "2024-07-14T08:43:38.243916",
     "exception": false,
     "start_time": "2024-07-14T08:43:37.833289",
     "status": "completed"
    },
    "tags": []
   },
   "outputs": [],
   "source": [
    "import seaborn as sns\n",
    "import matplotlib.pyplot as plt"
   ]
  },
  {
   "cell_type": "code",
   "execution_count": 19,
   "id": "2479c2e6",
   "metadata": {
    "execution": {
     "iopub.execute_input": "2024-07-14T08:43:38.274673Z",
     "iopub.status.busy": "2024-07-14T08:43:38.274236Z",
     "iopub.status.idle": "2024-07-14T08:43:38.284503Z",
     "shell.execute_reply": "2024-07-14T08:43:38.283317Z"
    },
    "papermill": {
     "duration": 0.028575,
     "end_time": "2024-07-14T08:43:38.286979",
     "exception": false,
     "start_time": "2024-07-14T08:43:38.258404",
     "status": "completed"
    },
    "tags": []
   },
   "outputs": [
    {
     "data": {
      "text/plain": [
       "Fraud\n",
       "0    14497\n",
       "1      923\n",
       "Name: count, dtype: int64"
      ]
     },
     "execution_count": 19,
     "metadata": {},
     "output_type": "execute_result"
    }
   ],
   "source": [
    "df['Fraud'].value_counts()"
   ]
  },
  {
   "cell_type": "code",
   "execution_count": 20,
   "id": "2a8abf09",
   "metadata": {
    "execution": {
     "iopub.execute_input": "2024-07-14T08:43:38.404938Z",
     "iopub.status.busy": "2024-07-14T08:43:38.404182Z",
     "iopub.status.idle": "2024-07-14T08:43:38.553740Z",
     "shell.execute_reply": "2024-07-14T08:43:38.552699Z"
    },
    "papermill": {
     "duration": 0.168865,
     "end_time": "2024-07-14T08:43:38.557085",
     "exception": false,
     "start_time": "2024-07-14T08:43:38.388220",
     "status": "completed"
    },
    "tags": []
   },
   "outputs": [
    {
     "data": {
      "image/png": "[encoded data removed]",
      "text/plain": [
       "<Figure size 640x480 with 1 Axes>"
      ]
     },
     "metadata": {},
     "output_type": "display_data"
    }
   ],
   "source": [
    "plt.pie(df['AccidentArea'].value_counts(),labels = ['Urban','Rural'],autopct = '%.02f')\n",
    "plt.show()"
   ]
  },
  {
   "cell_type": "code",
   "execution_count": 21,
   "id": "33d65990",
   "metadata": {
    "execution": {
     "iopub.execute_input": "2024-07-14T08:43:38.638453Z",
     "iopub.status.busy": "2024-07-14T08:43:38.638085Z",
     "iopub.status.idle": "2024-07-14T08:43:38.738138Z",
     "shell.execute_reply": "2024-07-14T08:43:38.736907Z"
    },
    "papermill": {
     "duration": 0.11949,
     "end_time": "2024-07-14T08:43:38.741188",
     "exception": false,
     "start_time": "2024-07-14T08:43:38.621698",
     "status": "completed"
    },
    "tags": []
   },
   "outputs": [
    {
     "data": {
      "image/png": "[encoded data removed]",
      "text/plain": [
       "<Figure size 640x480 with 1 Axes>"
      ]
     },
     "metadata": {},
     "output_type": "display_data"
    }
   ],
   "source": [
    "plt.pie(df['Sex'].value_counts(),labels = ['Male','Female'],autopct = '%.02f',colors = 'cyan')\n",
    "plt.show()"
   ]
  },
  {
   "cell_type": "code",
   "execution_count": 22,
   "id": "ebb120ef",
   "metadata": {
    "execution": {
     "iopub.execute_input": "2024-07-14T08:43:38.795236Z",
     "iopub.status.busy": "2024-07-14T08:43:38.794114Z",
     "iopub.status.idle": "2024-07-14T08:43:39.122470Z",
     "shell.execute_reply": "2024-07-14T08:43:39.121300Z"
    },
    "papermill": {
     "duration": 0.358023,
     "end_time": "2024-07-14T08:43:39.124958",
     "exception": false,
     "start_time": "2024-07-14T08:43:38.766935",
     "status": "completed"
    },
    "tags": []
   },
   "outputs": [
    {
     "data": {
      "image/png": "[encoded data removed]",
      "text/plain": [
       "<Figure size 640x480 with 1 Axes>"
      ]
     },
     "metadata": {},
     "output_type": "display_data"
    }
   ],
   "source": [
    "sns.countplot(df,x = 'PolicyType',hue = 'Fraud',palette='Paired')\n",
    "plt.xticks(rotation = 45)\n",
    "plt.show()"
   ]
  },
  {
   "cell_type": "code",
   "execution_count": 23,
   "id": "5acccc9f",
   "metadata": {
    "execution": {
     "iopub.execute_input": "2024-07-14T08:43:39.158060Z",
     "iopub.status.busy": "2024-07-14T08:43:39.157674Z",
     "iopub.status.idle": "2024-07-14T08:43:39.406146Z",
     "shell.execute_reply": "2024-07-14T08:43:39.404982Z"
    },
    "papermill": {
     "duration": 0.268006,
     "end_time": "2024-07-14T08:43:39.408720",
     "exception": false,
     "start_time": "2024-07-14T08:43:39.140714",
     "status": "completed"
    },
    "tags": []
   },
   "outputs": [
    {
     "data": {
      "text/plain": [
       "<Axes: xlabel='Fault', ylabel='count'>"
      ]
     },
     "execution_count": 23,
     "metadata": {},
     "output_type": "execute_result"
    },
    {
     "data": {
      "image/png": "[encoded data removed]",
      "text/plain": [
       "<Figure size 640x480 with 1 Axes>"
      ]
     },
     "metadata": {},
     "output_type": "display_data"
    }
   ],
   "source": [
    "sns.countplot(df,x = 'Fault',hue = 'Fraud',palette = 'Set2')"
   ]
  },
  {
   "cell_type": "code",
   "execution_count": 25,
   "id": "8fc3ce70",
   "metadata": {
    "execution": {
     "iopub.execute_input": "2024-07-14T08:43:39.442953Z",
     "iopub.status.busy": "2024-07-14T08:43:39.442557Z",
     "iopub.status.idle": "2024-07-14T08:43:39.703229Z",
     "shell.execute_reply": "2024-07-14T08:43:39.702012Z"
    },
    "papermill": {
     "duration": 0.280603,
     "end_time": "2024-07-14T08:43:39.705619",
     "exception": false,
     "start_time": "2024-07-14T08:43:39.425016",
     "status": "completed"
    },
    "tags": []
   },
   "outputs": [
    {
     "data": {
      "image/png": "[encoded data removed]",
      "text/plain": [
       "<Figure size 640x480 with 1 Axes>"
      ]
     },
     "metadata": {},
     "output_type": "display_data"
    }
   ],
   "source": [
    "sns.countplot(df,x = 'VehicleCategory',hue = 'Fraud',palette = 'coolwarm')\n",
    "plt.show()"
   ]
  },
  {
   "cell_type": "code",
   "execution_count": 26,
   "id": "6726ca3a",
   "metadata": {
    "execution": {
     "iopub.execute_input": "2024-07-14T08:43:39.774703Z",
     "iopub.status.busy": "2024-07-14T08:43:39.773435Z",
     "iopub.status.idle": "2024-07-14T08:43:39.783338Z",
     "shell.execute_reply": "2024-07-14T08:43:39.782086Z"
    },
    "papermill": {
     "duration": 0.030371,
     "end_time": "2024-07-14T08:43:39.785891",
     "exception": false,
     "start_time": "2024-07-14T08:43:39.755520",
     "status": "completed"
    },
    "tags": []
   },
   "outputs": [
    {
     "data": {
      "text/plain": [
       "0        more than 69000\n",
       "1        more than 69000\n",
       "2        more than 69000\n",
       "3         20000 to 29000\n",
       "4        more than 69000\n",
       "              ...       \n",
       "15415     20000 to 29000\n",
       "15416     30000 to 39000\n",
       "15417     20000 to 29000\n",
       "15418     20000 to 29000\n",
       "15419     20000 to 29000\n",
       "Name: VehiclePrice, Length: 15420, dtype: object"
      ]
     },
     "execution_count": 26,
     "metadata": {},
     "output_type": "execute_result"
    }
   ],
   "source": [
    "df['VehiclePrice']"
   ]
  },
  {
   "cell_type": "code",
   "execution_count": 27,
   "id": "24c33c2b",
   "metadata": {
    "execution": {
     "iopub.execute_input": "2024-07-14T08:43:39.821751Z",
     "iopub.status.busy": "2024-07-14T08:43:39.821353Z",
     "iopub.status.idle": "2024-07-14T08:43:39.830307Z",
     "shell.execute_reply": "2024-07-14T08:43:39.829127Z"
    },
    "papermill": {
     "duration": 0.029816,
     "end_time": "2024-07-14T08:43:39.832585",
     "exception": false,
     "start_time": "2024-07-14T08:43:39.802769",
     "status": "completed"
    },
    "tags": []
   },
   "outputs": [
    {
     "data": {
      "text/plain": [
       "DriverRating\n",
       "1    3944\n",
       "3    3884\n",
       "2    3801\n",
       "4    3791\n",
       "Name: count, dtype: int64"
      ]
     },
     "execution_count": 27,
     "metadata": {},
     "output_type": "execute_result"
    }
   ],
   "source": [
    "df['DriverRating'].value_counts()"
   ]
  },
  {
   "cell_type": "code",
   "execution_count": 28,
   "id": "aa259605",
   "metadata": {
    "execution": {
     "iopub.execute_input": "2024-07-14T08:43:39.871128Z",
     "iopub.status.busy": "2024-07-14T08:43:39.870145Z",
     "iopub.status.idle": "2024-07-14T08:43:40.367578Z",
     "shell.execute_reply": "2024-07-14T08:43:40.366177Z"
    },
    "papermill": {
     "duration": 0.520596,
     "end_time": "2024-07-14T08:43:40.370700",
     "exception": false,
     "start_time": "2024-07-14T08:43:39.850104",
     "status": "completed"
    },
    "tags": []
   },
   "outputs": [
    {
     "data": {
      "image/png": "[encoded data removed]",
      "text/plain": [
       "<Figure size 640x480 with 1 Axes>"
      ]
     },
     "metadata": {},
     "output_type": "display_data"
    }
   ],
   "source": [
    "sns.violinplot(x='Sex', y='Age', data=df, hue='Fraud',palette = 'magma')\n",
    "plt.show()"
   ]
  },
  {
   "cell_type": "code",
   "execution_count": 29,
   "id": "bae8f4ea",
   "metadata": {
    "execution": {
     "iopub.execute_input": "2024-07-14T08:43:40.481622Z",
     "iopub.status.busy": "2024-07-14T08:43:40.481060Z",
     "iopub.status.idle": "2024-07-14T08:43:40.515487Z",
     "shell.execute_reply": "2024-07-14T08:43:40.514606Z"
    },
    "papermill": {
     "duration": 0.058411,
     "end_time": "2024-07-14T08:43:40.518134",
     "exception": false,
     "start_time": "2024-07-14T08:43:40.459723",
     "status": "completed"
    },
    "tags": []
   },
   "outputs": [
    {
     "data": {
      "text/plain": [
       "['WeekOfMonth',\n",
       " 'WeekOfMonthClaimed',\n",
       " 'Age',\n",
       " 'Fraud',\n",
       " 'PolicyNumber',\n",
       " 'RepNumber',\n",
       " 'Deductible',\n",
       " 'DriverRating',\n",
       " 'PoliceReportFiled',\n",
       " 'AgentType']"
      ]
     },
     "execution_count": 29,
     "metadata": {},
     "output_type": "execute_result"
    }
   ],
   "source": [
    "num_cols = df.select_dtypes(include = 'number').columns.tolist()\n",
    "num_cols.remove('Year')\n",
    "\n",
    "datetime_cols = ['Month', 'DayOfWeek', 'DayOfWeekClaimed', 'MonthClaimed','Year']\n",
    "temp = df.select_dtypes(exclude = 'number').columns.tolist()\n",
    "\n",
    "cat_cols = [col for col in temp if col not in datetime_cols]\n",
    "num_cols"
   ]
  },
  {
   "cell_type": "code",
   "execution_count": 30,
   "id": "28b76d8c",
   "metadata": {
    "execution": {
     "iopub.execute_input": "2024-07-14T08:43:40.562113Z",
     "iopub.status.busy": "2024-07-14T08:43:40.561726Z",
     "iopub.status.idle": "2024-07-14T08:43:41.341344Z",
     "shell.execute_reply": "2024-07-14T08:43:41.340285Z"
    },
    "papermill": {
     "duration": 0.802394,
     "end_time": "2024-07-14T08:43:41.344672",
     "exception": false,
     "start_time": "2024-07-14T08:43:40.542278",
     "status": "completed"
    },
    "tags": []
   },
   "outputs": [
    {
     "data": {
      "text/plain": [
       "<Axes: >"
      ]
     },
     "execution_count": 30,
     "metadata": {},
     "output_type": "execute_result"
    },
    {
     "data": {
      "image/png": "[encoded data removed]",
      "text/plain": [
       "<Figure size 1200x800 with 2 Axes>"
      ]
     },
     "metadata": {},
     "output_type": "display_data"
    }
   ],
   "source": [
    "plt.figure(figsize = (12,8))\n",
    "sns.heatmap(df[num_cols].corr(),annot = True)"
   ]
  },
  {
   "cell_type": "code",
   "execution_count": 31,
   "id": "ec18d8d3",
   "metadata": {
    "execution": {
     "iopub.execute_input": "2024-07-14T08:43:41.425696Z",
     "iopub.status.busy": "2024-07-14T08:43:41.425305Z",
     "iopub.status.idle": "2024-07-14T08:43:41.430083Z",
     "shell.execute_reply": "2024-07-14T08:43:41.429078Z"
    },
    "papermill": {
     "duration": 0.028068,
     "end_time": "2024-07-14T08:43:41.432299",
     "exception": false,
     "start_time": "2024-07-14T08:43:41.404231",
     "status": "completed"
    },
    "tags": []
   },
   "outputs": [],
   "source": [
    "from scipy.stats import chi2_contingency"
   ]
  },
  {
   "cell_type": "code",
   "execution_count": 32,
   "id": "b972d100",
   "metadata": {
    "execution": {
     "iopub.execute_input": "2024-07-14T08:43:41.474272Z",
     "iopub.status.busy": "2024-07-14T08:43:41.473589Z",
     "iopub.status.idle": "2024-07-14T08:43:41.640188Z",
     "shell.execute_reply": "2024-07-14T08:43:41.638932Z"
    },
    "papermill": {
     "duration": 0.191023,
     "end_time": "2024-07-14T08:43:41.643196",
     "exception": false,
     "start_time": "2024-07-14T08:43:41.452173",
     "status": "completed"
    },
    "tags": []
   },
   "outputs": [
    {
     "name": "stdout",
     "output_type": "stream",
     "text": [
      "Chi-square Test for Make vs Target:\n",
      "Chi-square Statistic: 59.80999900179377\n",
      "P-value: 2.195889371054876e-06\n",
      "\n",
      "Chi-square Test for AccidentArea vs Target:\n",
      "Chi-square Statistic: 16.84430956342229\n",
      "P-value: 4.057480255422561e-05\n",
      "\n",
      "Chi-square Test for Sex vs Target:\n",
      "Chi-square Statistic: 13.489893718354447\n",
      "P-value: 0.00023985178051231308\n",
      "\n",
      "Chi-square Test for MaritalStatus vs Target:\n",
      "Chi-square Statistic: 1.0135120431478972\n",
      "P-value: 0.7979824874413766\n",
      "\n",
      "Chi-square Test for Fault vs Target:\n",
      "Chi-square Statistic: 264.9538238111968\n",
      "P-value: 1.4280361401294865e-59\n",
      "\n",
      "Chi-square Test for PolicyType vs Target:\n",
      "Chi-square Statistic: 437.40187033464593\n",
      "P-value: 1.848256360377509e-89\n",
      "\n",
      "Chi-square Test for VehicleCategory vs Target:\n",
      "Chi-square Statistic: 290.9421399073752\n",
      "P-value: 6.648398495577013e-64\n",
      "\n",
      "Chi-square Test for VehiclePrice vs Target:\n",
      "Chi-square Statistic: 67.768295203649\n",
      "P-value: 2.983597513664722e-13\n",
      "\n",
      "Chi-square Test for Days_Policy_Accident vs Target:\n",
      "Chi-square Statistic: 11.57160700948295\n",
      "P-value: 0.02083813005487907\n",
      "\n",
      "Chi-square Test for Days_Policy_Claim vs Target:\n",
      "Chi-square Statistic: 4.881178758356896\n",
      "P-value: 0.18070746994367962\n",
      "\n",
      "Chi-square Test for PastNumberOfClaims vs Target:\n",
      "Chi-square Statistic: 53.50083125189912\n",
      "P-value: 1.4337179439711136e-11\n",
      "\n",
      "Chi-square Test for AgeOfVehicle vs Target:\n",
      "Chi-square Statistic: 21.929004727649264\n",
      "P-value: 0.002612996766917762\n",
      "\n",
      "Chi-square Test for AgeOfPolicyHolder vs Target:\n",
      "Chi-square Statistic: 33.003253564908285\n",
      "P-value: 6.150519521424798e-05\n",
      "\n",
      "Chi-square Test for WitnessPresent vs Target:\n",
      "Chi-square Statistic: 0.5989531477288134\n",
      "P-value: 0.4389777266219206\n",
      "\n",
      "Chi-square Test for NumberOfSuppliments vs Target:\n",
      "Chi-square Statistic: 18.140571514991244\n",
      "P-value: 0.0004114406212927163\n",
      "\n",
      "Chi-square Test for AddressChange_Claim vs Target:\n",
      "Chi-square Statistic: 104.73377284263451\n",
      "P-value: 9.652105457759639e-22\n",
      "\n",
      "Chi-square Test for NumberOfCars vs Target:\n",
      "Chi-square Statistic: 2.416090815658887\n",
      "P-value: 0.6597213602888092\n",
      "\n",
      "Chi-square Test for BasePolicy vs Target:\n",
      "Chi-square Statistic: 402.8519212497998\n",
      "P-value: 3.3251924714276896e-88\n",
      "\n",
      "Columns that do not have significant relationship with the target variable are:\n",
      "['MaritalStatus', 'Days_Policy_Claim', 'WitnessPresent', 'NumberOfCars']\n"
     ]
    }
   ],
   "source": [
    "least_related_cols = []\n",
    "for col in cat_cols:\n",
    "    cross_tab = pd.crosstab(df['Fraud'],df[col])\n",
    "    stat,p_value,dof,expected = chi2_contingency(cross_tab)\n",
    "    if p_value>0.05:\n",
    "        least_related_cols.append(col)\n",
    "    print(f\"Chi-square Test for {col} vs Target:\")\n",
    "    print(f\"Chi-square Statistic: {stat}\")\n",
    "    print(f\"P-value: {p_value}\")\n",
    "    print(\"\")\n",
    "print(\"Columns that do not have significant relationship with the target variable are:\")\n",
    "print(least_related_cols)"
   ]
  },
  {
   "cell_type": "code",
   "execution_count": 45,
   "id": "990c6b95",
   "metadata": {
    "execution": {
     "iopub.execute_input": "2024-07-14T08:43:41.766422Z",
     "iopub.status.busy": "2024-07-14T08:43:41.766018Z",
     "iopub.status.idle": "2024-07-14T08:43:41.909001Z",
     "shell.execute_reply": "2024-07-14T08:43:41.907890Z"
    },
    "papermill": {
     "duration": 0.166913,
     "end_time": "2024-07-14T08:43:41.911688",
     "exception": false,
     "start_time": "2024-07-14T08:43:41.744775",
     "status": "completed"
    },
    "tags": []
   },
   "outputs": [],
   "source": [
    "from sklearn.model_selection import train_test_split\n",
    "\n",
    "X = df.drop(['Fraud'],axis = 1)\n",
    "y = df['Fraud']\n"
   ]
  },
  {
   "cell_type": "code",
   "execution_count": 46,
   "id": "789993d4",
   "metadata": {
    "execution": {
     "iopub.execute_input": "2024-07-14T08:43:41.953361Z",
     "iopub.status.busy": "2024-07-14T08:43:41.952983Z",
     "iopub.status.idle": "2024-07-14T08:43:42.086338Z",
     "shell.execute_reply": "2024-07-14T08:43:42.085068Z"
    },
    "papermill": {
     "duration": 0.157268,
     "end_time": "2024-07-14T08:43:42.089073",
     "exception": false,
     "start_time": "2024-07-14T08:43:41.931805",
     "status": "completed"
    },
    "tags": []
   },
   "outputs": [],
   "source": [
    "from sklearn.preprocessing import OneHotEncoder\n",
    "from sklearn.compose import ColumnTransformer\n",
    "\n",
    "trf = ColumnTransformer([\n",
    "    ('ohe',OneHotEncoder(handle_unknown='ignore',sparse_output=False),cat_cols)\n",
    "])\n",
    "\n",
    "X = trf.fit_transform(X)\n"
   ]
  },
  {
   "cell_type": "markdown",
   "id": "6b4f6696",
   "metadata": {
    "papermill": {
     "duration": 0.021398,
     "end_time": "2024-07-14T08:43:42.132693",
     "exception": false,
     "start_time": "2024-07-14T08:43:42.111295",
     "status": "completed"
    },
    "tags": []
   },
   "source": [
    "## Applying SMOTE to balance the data"
   ]
  },
  {
   "cell_type": "code",
   "execution_count": 47,
   "id": "9c2023d0",
   "metadata": {
    "execution": {
     "iopub.execute_input": "2024-07-14T08:43:42.176464Z",
     "iopub.status.busy": "2024-07-14T08:43:42.176012Z",
     "iopub.status.idle": "2024-07-14T08:43:42.683823Z",
     "shell.execute_reply": "2024-07-14T08:43:42.682669Z"
    },
    "papermill": {
     "duration": 0.532778,
     "end_time": "2024-07-14T08:43:42.686574",
     "exception": false,
     "start_time": "2024-07-14T08:43:42.153796",
     "status": "completed"
    },
    "tags": []
   },
   "outputs": [],
   "source": [
    "from imblearn.over_sampling import SMOTE\n",
    "\n",
    "smote = SMOTE()\n",
    "\n",
    "X_smote,y_smote = smote.fit_resample(X,y )"
   ]
  },
  {
   "cell_type": "code",
   "execution_count": 53,
   "id": "2e9485d6",
   "metadata": {},
   "outputs": [
    {
     "data": {
      "text/plain": [
       "Fraud\n",
       "0    14497\n",
       "1    14497\n",
       "Name: count, dtype: int64"
      ]
     },
     "execution_count": 53,
     "metadata": {},
     "output_type": "execute_result"
    }
   ],
   "source": [
    "y_smote.value_counts()"
   ]
  },
  {
   "cell_type": "code",
   "execution_count": 48,
   "id": "7b70fc66",
   "metadata": {},
   "outputs": [],
   "source": [
    "X_train, X_test, y_train, y_test = train_test_split(X_smote, y_smote, test_size=0.3, random_state=42, stratify=y_smote)"
   ]
  },
  {
   "cell_type": "code",
   "execution_count": 49,
   "id": "512ae1e8",
   "metadata": {
    "execution": {
     "iopub.execute_input": "2024-07-14T08:43:42.728813Z",
     "iopub.status.busy": "2024-07-14T08:43:42.728238Z",
     "iopub.status.idle": "2024-07-14T08:43:42.737007Z",
     "shell.execute_reply": "2024-07-14T08:43:42.735945Z"
    },
    "papermill": {
     "duration": 0.032472,
     "end_time": "2024-07-14T08:43:42.739206",
     "exception": false,
     "start_time": "2024-07-14T08:43:42.706734",
     "status": "completed"
    },
    "tags": []
   },
   "outputs": [
    {
     "data": {
      "text/plain": [
       "Fraud\n",
       "1    10148\n",
       "0    10147\n",
       "Name: count, dtype: int64"
      ]
     },
     "execution_count": 49,
     "metadata": {},
     "output_type": "execute_result"
    }
   ],
   "source": [
    "y_train.value_counts()"
   ]
  },
  {
   "cell_type": "markdown",
   "id": "ad059050",
   "metadata": {
    "papermill": {
     "duration": 0.020755,
     "end_time": "2024-07-14T08:43:42.884324",
     "exception": false,
     "start_time": "2024-07-14T08:43:42.863569",
     "status": "completed"
    },
    "tags": []
   },
   "source": [
    "## Model Selection"
   ]
  },
  {
   "cell_type": "code",
   "execution_count": 40,
   "id": "3f89ec30",
   "metadata": {
    "execution": {
     "iopub.execute_input": "2024-07-14T08:43:42.928421Z",
     "iopub.status.busy": "2024-07-14T08:43:42.928015Z",
     "iopub.status.idle": "2024-07-14T08:43:44.539728Z",
     "shell.execute_reply": "2024-07-14T08:43:44.538688Z"
    },
    "papermill": {
     "duration": 1.63678,
     "end_time": "2024-07-14T08:43:44.542413",
     "exception": false,
     "start_time": "2024-07-14T08:43:42.905633",
     "status": "completed"
    },
    "tags": []
   },
   "outputs": [],
   "source": [
    "from sklearn.linear_model import LogisticRegression\n",
    "from sklearn.ensemble import (\n",
    "    RandomForestClassifier,\n",
    "    GradientBoostingClassifier,\n",
    "    ExtraTreesClassifier,\n",
    "    AdaBoostClassifier)\n",
    "from sklearn.neighbors import KNeighborsClassifier\n",
    "from sklearn.svm import SVC\n",
    "from xgboost import XGBClassifier\n",
    "\n",
    "import lightgbm as lgb\n",
    "\n",
    "algos = {\n",
    "    'LogisticRegression':LogisticRegression(max_iter=1000),\n",
    "    'RandomForestClassifier':RandomForestClassifier(),\n",
    "    'GradientBoostingClassifier':GradientBoostingClassifier(),\n",
    "    'ExtraTreesClassifier':ExtraTreesClassifier(),\n",
    "    'KNeighborsClassifier':KNeighborsClassifier(),\n",
    "    'SVC':SVC(),\n",
    "    'XGBClassifier':XGBClassifier(),\n",
    "    \n",
    "    \n",
    "}"
   ]
  },
  {
   "cell_type": "code",
   "execution_count": 50,
   "id": "889757e8",
   "metadata": {
    "execution": {
     "iopub.execute_input": "2024-07-14T08:43:44.585691Z",
     "iopub.status.busy": "2024-07-14T08:43:44.584455Z",
     "iopub.status.idle": "2024-07-14T08:44:25.148902Z",
     "shell.execute_reply": "2024-07-14T08:44:25.147749Z"
    },
    "papermill": {
     "duration": 40.588467,
     "end_time": "2024-07-14T08:44:25.151545",
     "exception": false,
     "start_time": "2024-07-14T08:43:44.563078",
     "status": "completed"
    },
    "tags": []
   },
   "outputs": [
    {
     "name": "stdout",
     "output_type": "stream",
     "text": [
      "LogisticRegression\n",
      "0.7758363030233361\n",
      "0.7136242208370437\n",
      "\n",
      "\n",
      "RandomForestClassifier\n",
      "0.9650534544200483\n",
      "0.9719953325554259\n",
      "\n",
      "\n",
      "GradientBoostingClassifier\n",
      "0.9333256696171974\n",
      "0.9160962684919408\n",
      "\n",
      "\n",
      "ExtraTreesClassifier\n",
      "0.9660880560984021\n",
      "0.9619416590701915\n",
      "\n",
      "\n",
      "KNeighborsClassifier\n",
      "0.836073111851937\n",
      "0.760470504366423\n",
      "\n",
      "\n",
      "SVC\n",
      "0.904701689849408\n",
      "0.8773584905660378\n",
      "\n",
      "\n",
      "XGBClassifier\n",
      "0.9660880560984021\n",
      "0.9889049686444766\n",
      "\n",
      "\n"
     ]
    }
   ],
   "source": [
    "from sklearn.metrics import accuracy_score,precision_score,roc_auc_score,classification_report\n",
    "\n",
    "for name,algo in algos.items():\n",
    "    model = algo\n",
    "    model.fit(X_train,y_train)\n",
    "    y_pred = model.predict(X_test)\n",
    "    print(name)\n",
    "    print(accuracy_score(y_test,y_pred))\n",
    "    print(precision_score(y_test,y_pred))\n",
    "    print('\\n')"
   ]
  },
  {
   "cell_type": "code",
   "execution_count": 51,
   "id": "3cf4b58a",
   "metadata": {
    "execution": {
     "iopub.execute_input": "2024-07-14T08:44:25.195692Z",
     "iopub.status.busy": "2024-07-14T08:44:25.194646Z",
     "iopub.status.idle": "2024-07-14T08:44:26.307451Z",
     "shell.execute_reply": "2024-07-14T08:44:26.306379Z"
    },
    "papermill": {
     "duration": 1.137546,
     "end_time": "2024-07-14T08:44:26.310009",
     "exception": false,
     "start_time": "2024-07-14T08:44:25.172463",
     "status": "completed"
    },
    "tags": []
   },
   "outputs": [
    {
     "name": "stdout",
     "output_type": "stream",
     "text": [
      "0.9660880560984021\n",
      "0.9889049686444766\n",
      "\n",
      "\n",
      "              precision    recall  f1-score   support\n",
      "\n",
      "           0       0.95      0.99      0.97      4350\n",
      "           1       0.99      0.94      0.97      4349\n",
      "\n",
      "    accuracy                           0.97      8699\n",
      "   macro avg       0.97      0.97      0.97      8699\n",
      "weighted avg       0.97      0.97      0.97      8699\n",
      "\n"
     ]
    }
   ],
   "source": [
    "lgb_clf = XGBClassifier()\n",
    "lgb_clf.fit(X_train,y_train)\n",
    "y_pred2 = lgb_clf.predict(X_test)\n",
    "print(accuracy_score(y_test,y_pred2))\n",
    "print(precision_score(y_test,y_pred2))\n",
    "\n",
    "print('\\n')\n",
    "print(classification_report(y_test,y_pred2))"
   ]
  }
 ],
 "metadata": {
  "kaggle": {
   "accelerator": "none",
   "dataSources": [
    {
     "datasetId": 1807255,
     "sourceId": 2947792,
     "sourceType": "datasetVersion"
    }
   ],
   "dockerImageVersionId": 30746,
   "isGpuEnabled": false,
   "isInternetEnabled": true,
   "language": "python",
   "sourceType": "notebook"
  },
  "kernelspec": {
   "display_name": "tensorlab",
   "language": "python",
   "name": "python3"
  },
  "language_info": {
   "codemirror_mode": {
    "name": "ipython",
    "version": 3
   },
   "file_extension": ".py",
   "mimetype": "text/x-python",
   "name": "python",
   "nbconvert_exporter": "python",
   "pygments_lexer": "ipython3",
   "version": "3.9.19"
  },
  "papermill": {
   "default_parameters": {},
   "duration": 61.513829,
   "end_time": "2024-07-14T08:44:33.536818",
   "environment_variables": {},
   "exception": null,
   "input_path": "__notebook__.ipynb",
   "output_path": "__notebook__.ipynb",
   "parameters": {},
   "start_time": "2024-07-14T08:43:32.022989",
   "version": "2.5.0"
  }
 },
 "nbformat": 4,
 "nbformat_minor": 5
}
